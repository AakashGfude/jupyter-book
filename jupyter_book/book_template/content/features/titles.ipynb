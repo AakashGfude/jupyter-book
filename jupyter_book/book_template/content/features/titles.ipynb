{
 "cells": [
  {
   "cell_type": "markdown",
   "metadata": {},
   "source": [
    "# Page titles and authors\n",
    "\n",
    "## Adding titles to your book's pages\n",
    "\n",
    "Jupyter Notebooks don't have an internal concept of a \"title\", but it's common\n",
    "to want an official title for each page of your book. Jupyter Book will add titles\n",
    "to your pages according to a few rules."
   ]
  },
  {
   "cell_type": "markdown",
   "metadata": {
    "tags": [
     "popout"
    ]
   },
   "source": [
    "**Note**: These titles will not affect what is displayed in the Table of Contents\n",
    "to the left. Those titles are defined in `_data/toc.yml`, and will be used for the\n",
    "left sidebar regardless of your book's `page_titles` configuration."
   ]
  },
  {
   "cell_type": "markdown",
   "metadata": {},
   "source": [
    "Each of the options below is controlled by the `page_titles: ` parameter in your\n",
    "book's `_config.yml` file. Here are the options for this configuration:\n",
    "\n",
    "* `page_titles: None`: Do not add any titles to your pages (the default)\n",
    "* `page_titles: toc`: Infer the titles from your Table of Contents file (`_data/toc.yml`)\n",
    "* `page_titles: infer`: Infer the titles from each page of your book. In this case,\n",
    "  Jupyter Book will first look in `notebook['metadata']['title']` for a title. If it\n",
    "  does not find one, it will check if the first line of the notebook is an H1 header\n",
    "  (starting with `# `). If either of these are found, they will be used as the title.\n",
    "\n",
    "\n",
    "## Adding authorship to your book's pages\n",
    "\n",
    "You can also add an author by-line to each page of your book. To do so, use\n",
    "the `authors: ` parameter in your book's `_config.yml` file. Here are the options\n",
    "for this configuration:\n",
    "\n",
    "* `page_authors: None`: Do not add any author information to your pages (the default)\n",
    "* `page_authors: infer`: Infer the author information from each page of the book. In this\n",
    "  case, Jupyter Book will check for the field `notebook['metadata']['author']` and\n",
    "  display it if found."
   ]
  }
 ],
 "metadata": {
  "author": "Jo the Jovyan",
  "kernelspec": {
   "display_name": "Python 3",
   "language": "python",
   "name": "python3"
  },
  "language_info": {
   "codemirror_mode": {
    "name": "ipython",
    "version": 3
   },
   "file_extension": ".py",
   "mimetype": "text/x-python",
   "name": "python",
   "nbconvert_exporter": "python",
   "pygments_lexer": "ipython3",
   "version": "3.6.5"
  },
  "widgets": {
   "application/vnd.jupyter.widget-state+json": {
    "state": {},
    "version_major": 2,
    "version_minor": 0
   }
  }
 },
 "nbformat": 4,
 "nbformat_minor": 4
}
